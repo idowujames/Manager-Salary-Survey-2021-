{
 "cells": [
  {
   "cell_type": "code",
   "execution_count": 67,
   "metadata": {},
   "outputs": [],
   "source": [
    "import pandas as pd\n",
    "import numpy as np\n",
    "from IPython.display import display\n"
   ]
  },
  {
   "cell_type": "code",
   "execution_count": 68,
   "metadata": {},
   "outputs": [],
   "source": [
    "df = pd.read_pickle('../data/interim/interim_cleaned_data.pickle')"
   ]
  },
  {
   "cell_type": "code",
   "execution_count": 69,
   "metadata": {},
   "outputs": [
    {
     "name": "stdout",
     "output_type": "stream",
     "text": [
      "<class 'pandas.core.frame.DataFrame'>\n",
      "Index: 26613 entries, 0 to 28058\n",
      "Data columns (total 15 columns):\n",
      " #   Column                        Non-Null Count  Dtype  \n",
      "---  ------                        --------------  -----  \n",
      " 0   timestamp                     26613 non-null  object \n",
      " 1   age_range                     26613 non-null  object \n",
      " 2   industry                      26613 non-null  object \n",
      " 3   job_title                     26613 non-null  object \n",
      " 4   salary(annualized)            26613 non-null  object \n",
      " 5   additional_compensation       26613 non-null  float64\n",
      " 6   currency                      26613 non-null  object \n",
      " 7   country                       26613 non-null  object \n",
      " 8   us_state                      26613 non-null  object \n",
      " 9   us_city                       26613 non-null  object \n",
      " 10  years_of_experience           26613 non-null  object \n",
      " 11  years_of_experience_in_field  26613 non-null  object \n",
      " 12  level_of_education            26613 non-null  object \n",
      " 13  gender                        26613 non-null  object \n",
      " 14  race                          26613 non-null  object \n",
      "dtypes: float64(1), object(14)\n",
      "memory usage: 3.2+ MB\n",
      "None\n"
     ]
    },
    {
     "data": {
      "text/html": [
       "<div>\n",
       "<style scoped>\n",
       "    .dataframe tbody tr th:only-of-type {\n",
       "        vertical-align: middle;\n",
       "    }\n",
       "\n",
       "    .dataframe tbody tr th {\n",
       "        vertical-align: top;\n",
       "    }\n",
       "\n",
       "    .dataframe thead th {\n",
       "        text-align: right;\n",
       "    }\n",
       "</style>\n",
       "<table border=\"1\" class=\"dataframe\">\n",
       "  <thead>\n",
       "    <tr style=\"text-align: right;\">\n",
       "      <th></th>\n",
       "      <th>timestamp</th>\n",
       "      <th>age_range</th>\n",
       "      <th>industry</th>\n",
       "      <th>job_title</th>\n",
       "      <th>salary(annualized)</th>\n",
       "      <th>additional_compensation</th>\n",
       "      <th>currency</th>\n",
       "      <th>country</th>\n",
       "      <th>us_state</th>\n",
       "      <th>us_city</th>\n",
       "      <th>years_of_experience</th>\n",
       "      <th>years_of_experience_in_field</th>\n",
       "      <th>level_of_education</th>\n",
       "      <th>gender</th>\n",
       "      <th>race</th>\n",
       "    </tr>\n",
       "  </thead>\n",
       "  <tbody>\n",
       "    <tr>\n",
       "      <th>0</th>\n",
       "      <td>4/27/2021 11:02:10</td>\n",
       "      <td>25-34</td>\n",
       "      <td>Education (Higher Education)</td>\n",
       "      <td>Research and Instruction Librarian</td>\n",
       "      <td>55,000</td>\n",
       "      <td>0.00</td>\n",
       "      <td>USD</td>\n",
       "      <td>united states</td>\n",
       "      <td>Massachusetts</td>\n",
       "      <td>Boston</td>\n",
       "      <td>5-7 years</td>\n",
       "      <td>5-7 years</td>\n",
       "      <td>Master's degree</td>\n",
       "      <td>Woman</td>\n",
       "      <td>White</td>\n",
       "    </tr>\n",
       "    <tr>\n",
       "      <th>1</th>\n",
       "      <td>4/27/2021 11:02:22</td>\n",
       "      <td>25-34</td>\n",
       "      <td>Computing or Tech</td>\n",
       "      <td>Change &amp; Internal Communications Manager</td>\n",
       "      <td>54,600</td>\n",
       "      <td>4000.00</td>\n",
       "      <td>GBP</td>\n",
       "      <td>united kingdom</td>\n",
       "      <td>N/A</td>\n",
       "      <td>Cambridge</td>\n",
       "      <td>8 - 10 years</td>\n",
       "      <td>5-7 years</td>\n",
       "      <td>College degree</td>\n",
       "      <td>Non-binary</td>\n",
       "      <td>White</td>\n",
       "    </tr>\n",
       "    <tr>\n",
       "      <th>2</th>\n",
       "      <td>4/27/2021 11:02:38</td>\n",
       "      <td>25-34</td>\n",
       "      <td>Accounting, Banking &amp; Finance</td>\n",
       "      <td>Marketing Specialist</td>\n",
       "      <td>34,000</td>\n",
       "      <td>0.00</td>\n",
       "      <td>USD</td>\n",
       "      <td>united states</td>\n",
       "      <td>Tennessee</td>\n",
       "      <td>Chattanooga</td>\n",
       "      <td>2 - 4 years</td>\n",
       "      <td>2 - 4 years</td>\n",
       "      <td>College degree</td>\n",
       "      <td>Woman</td>\n",
       "      <td>White</td>\n",
       "    </tr>\n",
       "    <tr>\n",
       "      <th>3</th>\n",
       "      <td>4/27/2021 11:02:41</td>\n",
       "      <td>25-34</td>\n",
       "      <td>Nonprofits</td>\n",
       "      <td>Program Manager</td>\n",
       "      <td>62,000</td>\n",
       "      <td>3000.00</td>\n",
       "      <td>USD</td>\n",
       "      <td>united states</td>\n",
       "      <td>Wisconsin</td>\n",
       "      <td>Milwaukee</td>\n",
       "      <td>8 - 10 years</td>\n",
       "      <td>5-7 years</td>\n",
       "      <td>College degree</td>\n",
       "      <td>Woman</td>\n",
       "      <td>White</td>\n",
       "    </tr>\n",
       "    <tr>\n",
       "      <th>4</th>\n",
       "      <td>4/27/2021 11:02:42</td>\n",
       "      <td>25-34</td>\n",
       "      <td>Accounting, Banking &amp; Finance</td>\n",
       "      <td>Accounting Manager</td>\n",
       "      <td>60,000</td>\n",
       "      <td>7000.00</td>\n",
       "      <td>USD</td>\n",
       "      <td>united states</td>\n",
       "      <td>South Carolina</td>\n",
       "      <td>Greenville</td>\n",
       "      <td>8 - 10 years</td>\n",
       "      <td>5-7 years</td>\n",
       "      <td>College degree</td>\n",
       "      <td>Woman</td>\n",
       "      <td>White</td>\n",
       "    </tr>\n",
       "  </tbody>\n",
       "</table>\n",
       "</div>"
      ],
      "text/plain": [
       "            timestamp age_range                       industry  \\\n",
       "0  4/27/2021 11:02:10     25-34   Education (Higher Education)   \n",
       "1  4/27/2021 11:02:22     25-34              Computing or Tech   \n",
       "2  4/27/2021 11:02:38     25-34  Accounting, Banking & Finance   \n",
       "3  4/27/2021 11:02:41     25-34                     Nonprofits   \n",
       "4  4/27/2021 11:02:42     25-34  Accounting, Banking & Finance   \n",
       "\n",
       "                                  job_title salary(annualized)  \\\n",
       "0        Research and Instruction Librarian             55,000   \n",
       "1  Change & Internal Communications Manager             54,600   \n",
       "2                      Marketing Specialist             34,000   \n",
       "3                           Program Manager             62,000   \n",
       "4                        Accounting Manager             60,000   \n",
       "\n",
       "   additional_compensation currency         country        us_state  \\\n",
       "0                     0.00      USD   united states   Massachusetts   \n",
       "1                  4000.00      GBP  united kingdom             N/A   \n",
       "2                     0.00      USD   united states       Tennessee   \n",
       "3                  3000.00      USD   united states       Wisconsin   \n",
       "4                  7000.00      USD   united states  South Carolina   \n",
       "\n",
       "       us_city years_of_experience years_of_experience_in_field  \\\n",
       "0       Boston           5-7 years                    5-7 years   \n",
       "1    Cambridge        8 - 10 years                    5-7 years   \n",
       "2  Chattanooga         2 - 4 years                  2 - 4 years   \n",
       "3    Milwaukee        8 - 10 years                    5-7 years   \n",
       "4   Greenville        8 - 10 years                    5-7 years   \n",
       "\n",
       "  level_of_education      gender   race  \n",
       "0    Master's degree       Woman  White  \n",
       "1     College degree  Non-binary  White  \n",
       "2     College degree       Woman  White  \n",
       "3     College degree       Woman  White  \n",
       "4     College degree       Woman  White  "
      ]
     },
     "execution_count": 69,
     "metadata": {},
     "output_type": "execute_result"
    }
   ],
   "source": [
    "print(df.info())\n",
    "df.head()"
   ]
  },
  {
   "cell_type": "markdown",
   "metadata": {},
   "source": [
    "### Second Round of Cleaning\n",
    "\n",
    "- Check for duplicates\n",
    "- Covert date columns to datetime type\n",
    "- Convert salary and additonal compensation columns to numeric type\n",
    "- convert all currencies to USD using convertion rate as of 2021\n",
    "- Convert all categorial columns to category type\n",
    "- Drop columns that are not needed for analysis\n"
   ]
  },
  {
   "cell_type": "markdown",
   "metadata": {},
   "source": [
    "**Check for duplicates**"
   ]
  },
  {
   "cell_type": "code",
   "execution_count": 70,
   "metadata": {},
   "outputs": [
    {
     "data": {
      "text/plain": [
       "np.int64(0)"
      ]
     },
     "execution_count": 70,
     "metadata": {},
     "output_type": "execute_result"
    }
   ],
   "source": [
    "df.duplicated().sum()"
   ]
  },
  {
   "cell_type": "markdown",
   "metadata": {},
   "source": [
    "No duplicates found"
   ]
  },
  {
   "cell_type": "markdown",
   "metadata": {},
   "source": [
    "**Convert date columns to datetime type**"
   ]
  },
  {
   "cell_type": "code",
   "execution_count": 71,
   "metadata": {},
   "outputs": [],
   "source": [
    "df['timestamp'] = pd.to_datetime(df['timestamp'])"
   ]
  },
  {
   "cell_type": "markdown",
   "metadata": {},
   "source": [
    "**Convert salary to numeric type**"
   ]
  },
  {
   "cell_type": "code",
   "execution_count": 72,
   "metadata": {},
   "outputs": [],
   "source": [
    "# pd.set_option('display.precision', 0)\n",
    "pd.options.display.float_format = '{:.2f}'.format"
   ]
  },
  {
   "cell_type": "code",
   "execution_count": 73,
   "metadata": {},
   "outputs": [
    {
     "name": "stdout",
     "output_type": "stream",
     "text": [
      "0\n"
     ]
    }
   ],
   "source": [
    "# Checking if there are any non numeric values in the salary column\n",
    "print(df['salary(annualized)'].str.contains('[a-zA-Z]').sum())"
   ]
  },
  {
   "cell_type": "code",
   "execution_count": 74,
   "metadata": {},
   "outputs": [],
   "source": [
    "# Removing the ',' from the salary column and converting it to numeric type\n",
    "df['salary(annualized)'] = pd.to_numeric(df['salary(annualized)'].str.replace(',', ''))"
   ]
  },
  {
   "cell_type": "markdown",
   "metadata": {},
   "source": [
    "**Convert all currencies to USD using convertion rate as of 2021**"
   ]
  },
  {
   "cell_type": "code",
   "execution_count": 75,
   "metadata": {},
   "outputs": [
    {
     "data": {
      "text/plain": [
       "array(['USD', 'GBP', 'CAD', 'AUD/NZD', 'EUR', 'CHF', 'SEK', 'Other',\n",
       "       'JPY'], dtype=object)"
      ]
     },
     "execution_count": 75,
     "metadata": {},
     "output_type": "execute_result"
    }
   ],
   "source": [
    "# Getting the unique values in the currency column\n",
    "df['currency'].unique()"
   ]
  },
  {
   "cell_type": "code",
   "execution_count": 76,
   "metadata": {},
   "outputs": [],
   "source": [
    "# Creating a dictionary with the conversion rates as of 2021\n",
    "currency_conversion = {\n",
    "    \"USD\": 1,\n",
    "    \"EUR\": 1.18,\n",
    "    \"GBP\": 1.36,\n",
    "    \"CAD\": 0.78,\n",
    "    \"AUD/NZD\": 0.72,\n",
    "    \"CHF\": 1.08,\n",
    "    \"JPY\": 0.0091,\n",
    "    \"Other\": 0\n",
    "}"
   ]
  },
  {
   "cell_type": "code",
   "execution_count": 77,
   "metadata": {},
   "outputs": [],
   "source": [
    "# Creating a function to convert all currencies to USD using convertion rate as of 2021\n",
    "def convert_to_usd(row):\n",
    "    if row['currency'] in currency_conversion:\n",
    "        return row['salary(annualized)'] * currency_conversion[row['currency']]\n",
    "    else:\n",
    "        return row['salary(annualized)']"
   ]
  },
  {
   "cell_type": "code",
   "execution_count": 79,
   "metadata": {},
   "outputs": [],
   "source": [
    "df['salary_usd'] = df.apply(convert_to_usd, axis=1)"
   ]
  },
  {
   "cell_type": "markdown",
   "metadata": {},
   "source": [
    "**Convert all categorial columns to category type**"
   ]
  },
  {
   "cell_type": "code",
   "execution_count": 89,
   "metadata": {},
   "outputs": [],
   "source": [
    "# convert columns to category type\n",
    "df[\n",
    "    [\n",
    "        \"age_range\",\n",
    "        \"gender\",\n",
    "        \"years_of_experience\",\n",
    "        \"years_of_experience_in_field\",\n",
    "        \"level_of_education\",\n",
    "    ]\n",
    "] = df[\n",
    "        [\n",
    "            \"age_range\",\n",
    "            \"gender\",\n",
    "            \"years_of_experience\",\n",
    "            \"years_of_experience_in_field\",\n",
    "            \"level_of_education\",\n",
    "        ]\n",
    "      ].astype(\"category\")"
   ]
  },
  {
   "cell_type": "code",
   "execution_count": 90,
   "metadata": {},
   "outputs": [
    {
     "name": "stdout",
     "output_type": "stream",
     "text": [
      "<class 'pandas.core.frame.DataFrame'>\n",
      "Index: 26613 entries, 0 to 28058\n",
      "Data columns (total 16 columns):\n",
      " #   Column                        Non-Null Count  Dtype         \n",
      "---  ------                        --------------  -----         \n",
      " 0   timestamp                     26613 non-null  datetime64[ns]\n",
      " 1   age_range                     26613 non-null  category      \n",
      " 2   industry                      26613 non-null  object        \n",
      " 3   job_title                     26613 non-null  object        \n",
      " 4   salary(annualized)            26613 non-null  int64         \n",
      " 5   additional_compensation       26613 non-null  float64       \n",
      " 6   currency                      26613 non-null  object        \n",
      " 7   country                       26613 non-null  object        \n",
      " 8   us_state                      26613 non-null  object        \n",
      " 9   us_city                       26613 non-null  object        \n",
      " 10  years_of_experience           26613 non-null  category      \n",
      " 11  years_of_experience_in_field  26613 non-null  category      \n",
      " 12  level_of_education            26613 non-null  category      \n",
      " 13  gender                        26613 non-null  category      \n",
      " 14  race                          26613 non-null  object        \n",
      " 15  salary_usd                    26613 non-null  float64       \n",
      "dtypes: category(5), datetime64[ns](1), float64(2), int64(1), object(7)\n",
      "memory usage: 2.6+ MB\n"
     ]
    }
   ],
   "source": [
    "df.info()"
   ]
  },
  {
   "cell_type": "markdown",
   "metadata": {},
   "source": [
    "**Drop columns that are not needed for analysis**"
   ]
  },
  {
   "cell_type": "code",
   "execution_count": 93,
   "metadata": {},
   "outputs": [],
   "source": [
    "df = df.drop(columns=['salary(annualized)', 'currency'])"
   ]
  }
 ],
 "metadata": {
  "kernelspec": {
   "display_name": "Python 3",
   "language": "python",
   "name": "python3"
  },
  "language_info": {
   "codemirror_mode": {
    "name": "ipython",
    "version": 3
   },
   "file_extension": ".py",
   "mimetype": "text/x-python",
   "name": "python",
   "nbconvert_exporter": "python",
   "pygments_lexer": "ipython3",
   "version": "3.11.9"
  }
 },
 "nbformat": 4,
 "nbformat_minor": 2
}
