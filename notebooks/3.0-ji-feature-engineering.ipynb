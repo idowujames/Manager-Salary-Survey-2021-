{
 "cells": [
  {
   "cell_type": "markdown",
   "metadata": {},
   "source": [
    "#### This Notebook is to create additional features that might be useful for the analysis."
   ]
  },
  {
   "cell_type": "code",
   "execution_count": 21,
   "metadata": {},
   "outputs": [],
   "source": [
    "import pandas as pd\n",
    "import numpy as np\n",
    "import matplotlib.pyplot as plt\n",
    "import seaborn as sns\n",
    "from IPython.display import display\n",
    "\n",
    "# pd.set_option('display.precision', 0)\n",
    "pd.options.display.float_format = '{:.2f}'.format\n"
   ]
  },
  {
   "cell_type": "code",
   "execution_count": 9,
   "metadata": {},
   "outputs": [],
   "source": [
    "df = pd.read_pickle('../data/processed/processed_cleaned_data.pickle')"
   ]
  },
  {
   "cell_type": "code",
   "execution_count": 10,
   "metadata": {},
   "outputs": [
    {
     "name": "stdout",
     "output_type": "stream",
     "text": [
      "<class 'pandas.core.frame.DataFrame'>\n",
      "Index: 26563 entries, 0 to 28058\n",
      "Data columns (total 14 columns):\n",
      " #   Column                        Non-Null Count  Dtype         \n",
      "---  ------                        --------------  -----         \n",
      " 0   timestamp                     26563 non-null  datetime64[ns]\n",
      " 1   age_range                     26563 non-null  category      \n",
      " 2   industry                      26563 non-null  object        \n",
      " 3   job_title                     26563 non-null  object        \n",
      " 4   country                       26563 non-null  object        \n",
      " 5   us_state                      26563 non-null  object        \n",
      " 6   us_city                       26563 non-null  object        \n",
      " 7   years_of_experience           26563 non-null  category      \n",
      " 8   years_of_experience_in_field  26563 non-null  category      \n",
      " 9   level_of_education            26563 non-null  category      \n",
      " 10  gender                        26563 non-null  category      \n",
      " 11  race                          26563 non-null  object        \n",
      " 12  salary_usd                    26563 non-null  float64       \n",
      " 13  additional_compensation_usd   26563 non-null  float64       \n",
      "dtypes: category(5), datetime64[ns](1), float64(2), object(6)\n",
      "memory usage: 2.2+ MB\n",
      "None\n"
     ]
    },
    {
     "data": {
      "text/html": [
       "<div>\n",
       "<style scoped>\n",
       "    .dataframe tbody tr th:only-of-type {\n",
       "        vertical-align: middle;\n",
       "    }\n",
       "\n",
       "    .dataframe tbody tr th {\n",
       "        vertical-align: top;\n",
       "    }\n",
       "\n",
       "    .dataframe thead th {\n",
       "        text-align: right;\n",
       "    }\n",
       "</style>\n",
       "<table border=\"1\" class=\"dataframe\">\n",
       "  <thead>\n",
       "    <tr style=\"text-align: right;\">\n",
       "      <th></th>\n",
       "      <th>timestamp</th>\n",
       "      <th>age_range</th>\n",
       "      <th>industry</th>\n",
       "      <th>job_title</th>\n",
       "      <th>country</th>\n",
       "      <th>us_state</th>\n",
       "      <th>us_city</th>\n",
       "      <th>years_of_experience</th>\n",
       "      <th>years_of_experience_in_field</th>\n",
       "      <th>level_of_education</th>\n",
       "      <th>gender</th>\n",
       "      <th>race</th>\n",
       "      <th>salary_usd</th>\n",
       "      <th>additional_compensation_usd</th>\n",
       "    </tr>\n",
       "  </thead>\n",
       "  <tbody>\n",
       "    <tr>\n",
       "      <th>0</th>\n",
       "      <td>2021-04-27 11:02:10</td>\n",
       "      <td>25-34</td>\n",
       "      <td>Education (Higher Education)</td>\n",
       "      <td>Research and Instruction Librarian</td>\n",
       "      <td>united states</td>\n",
       "      <td>Massachusetts</td>\n",
       "      <td>Boston</td>\n",
       "      <td>5-7 years</td>\n",
       "      <td>5-7 years</td>\n",
       "      <td>Master's degree</td>\n",
       "      <td>Woman</td>\n",
       "      <td>White</td>\n",
       "      <td>55000.0</td>\n",
       "      <td>0.0</td>\n",
       "    </tr>\n",
       "    <tr>\n",
       "      <th>1</th>\n",
       "      <td>2021-04-27 11:02:22</td>\n",
       "      <td>25-34</td>\n",
       "      <td>Computing or Tech</td>\n",
       "      <td>Change &amp; Internal Communications Manager</td>\n",
       "      <td>united kingdom</td>\n",
       "      <td>N/A</td>\n",
       "      <td>Cambridge</td>\n",
       "      <td>8 - 10 years</td>\n",
       "      <td>5-7 years</td>\n",
       "      <td>College degree</td>\n",
       "      <td>Non-binary</td>\n",
       "      <td>White</td>\n",
       "      <td>74256.0</td>\n",
       "      <td>5440.0</td>\n",
       "    </tr>\n",
       "    <tr>\n",
       "      <th>2</th>\n",
       "      <td>2021-04-27 11:02:38</td>\n",
       "      <td>25-34</td>\n",
       "      <td>Accounting, Banking &amp; Finance</td>\n",
       "      <td>Marketing Specialist</td>\n",
       "      <td>united states</td>\n",
       "      <td>Tennessee</td>\n",
       "      <td>Chattanooga</td>\n",
       "      <td>2 - 4 years</td>\n",
       "      <td>2 - 4 years</td>\n",
       "      <td>College degree</td>\n",
       "      <td>Woman</td>\n",
       "      <td>White</td>\n",
       "      <td>34000.0</td>\n",
       "      <td>0.0</td>\n",
       "    </tr>\n",
       "    <tr>\n",
       "      <th>3</th>\n",
       "      <td>2021-04-27 11:02:41</td>\n",
       "      <td>25-34</td>\n",
       "      <td>Nonprofits</td>\n",
       "      <td>Program Manager</td>\n",
       "      <td>united states</td>\n",
       "      <td>Wisconsin</td>\n",
       "      <td>Milwaukee</td>\n",
       "      <td>8 - 10 years</td>\n",
       "      <td>5-7 years</td>\n",
       "      <td>College degree</td>\n",
       "      <td>Woman</td>\n",
       "      <td>White</td>\n",
       "      <td>62000.0</td>\n",
       "      <td>3000.0</td>\n",
       "    </tr>\n",
       "    <tr>\n",
       "      <th>4</th>\n",
       "      <td>2021-04-27 11:02:42</td>\n",
       "      <td>25-34</td>\n",
       "      <td>Accounting, Banking &amp; Finance</td>\n",
       "      <td>Accounting Manager</td>\n",
       "      <td>united states</td>\n",
       "      <td>South Carolina</td>\n",
       "      <td>Greenville</td>\n",
       "      <td>8 - 10 years</td>\n",
       "      <td>5-7 years</td>\n",
       "      <td>College degree</td>\n",
       "      <td>Woman</td>\n",
       "      <td>White</td>\n",
       "      <td>60000.0</td>\n",
       "      <td>7000.0</td>\n",
       "    </tr>\n",
       "  </tbody>\n",
       "</table>\n",
       "</div>"
      ],
      "text/plain": [
       "            timestamp age_range                       industry  \\\n",
       "0 2021-04-27 11:02:10     25-34   Education (Higher Education)   \n",
       "1 2021-04-27 11:02:22     25-34              Computing or Tech   \n",
       "2 2021-04-27 11:02:38     25-34  Accounting, Banking & Finance   \n",
       "3 2021-04-27 11:02:41     25-34                     Nonprofits   \n",
       "4 2021-04-27 11:02:42     25-34  Accounting, Banking & Finance   \n",
       "\n",
       "                                  job_title         country        us_state  \\\n",
       "0        Research and Instruction Librarian   united states   Massachusetts   \n",
       "1  Change & Internal Communications Manager  united kingdom             N/A   \n",
       "2                      Marketing Specialist   united states       Tennessee   \n",
       "3                           Program Manager   united states       Wisconsin   \n",
       "4                        Accounting Manager   united states  South Carolina   \n",
       "\n",
       "       us_city years_of_experience years_of_experience_in_field  \\\n",
       "0       Boston           5-7 years                    5-7 years   \n",
       "1    Cambridge        8 - 10 years                    5-7 years   \n",
       "2  Chattanooga         2 - 4 years                  2 - 4 years   \n",
       "3    Milwaukee        8 - 10 years                    5-7 years   \n",
       "4   Greenville        8 - 10 years                    5-7 years   \n",
       "\n",
       "  level_of_education      gender   race  salary_usd  \\\n",
       "0    Master's degree       Woman  White     55000.0   \n",
       "1     College degree  Non-binary  White     74256.0   \n",
       "2     College degree       Woman  White     34000.0   \n",
       "3     College degree       Woman  White     62000.0   \n",
       "4     College degree       Woman  White     60000.0   \n",
       "\n",
       "   additional_compensation_usd  \n",
       "0                          0.0  \n",
       "1                       5440.0  \n",
       "2                          0.0  \n",
       "3                       3000.0  \n",
       "4                       7000.0  "
      ]
     },
     "execution_count": 10,
     "metadata": {},
     "output_type": "execute_result"
    }
   ],
   "source": [
    "print(df.info())\n",
    "df.head()"
   ]
  },
  {
   "cell_type": "markdown",
   "metadata": {},
   "source": [
    "#### Feature To Be Created:\n",
    "- Total Compensation: Combine salary_usd and additional_compensation to create a total_compensation feature.\n",
    "- Salary Bands: Create salary bands or categories (e.g., low, medium, high)\n",
    "- Log Salary: Use a logarithmic transformation of salary to handle skewness in salary distribution.\n",
    "- Convert the years_of_experience and years_of_experience_in_field columns into numerical categories using midpoint\n",
    "- Calculate the difference between years_of_experience and years_of_experience_in_field to see if people are transitioning into new fields.\n",
    "- Convert multi-race entries into binary columns (e.g., is_white, is_asian) for easier analysis.\n",
    "- Create interaction features between gender and level_of_education to study their combined effect on salary.\n",
    "- Classify cities or states as urban or rural to analyze salary and job title distributions.\n"
   ]
  },
  {
   "cell_type": "markdown",
   "metadata": {},
   "source": [
    "**Total Compensation Column** "
   ]
  },
  {
   "cell_type": "code",
   "execution_count": 11,
   "metadata": {},
   "outputs": [],
   "source": [
    "df['total_compensation'] = df['salary_usd'] + df['additional_compensation_usd']"
   ]
  },
  {
   "cell_type": "markdown",
   "metadata": {},
   "source": [
    "**Create Salary Bands**"
   ]
  },
  {
   "cell_type": "code",
   "execution_count": 13,
   "metadata": {},
   "outputs": [
    {
     "data": {
      "text/plain": [
       "<Axes: >"
      ]
     },
     "execution_count": 13,
     "metadata": {},
     "output_type": "execute_result"
    },
    {
     "data": {
      "image/png": "[encoded data removed]",
      "text/plain": [
       "<Figure size 640x480 with 1 Axes>"
      ]
     },
     "metadata": {},
     "output_type": "display_data"
    }
   ],
   "source": [
    "df['total_compensation'].hist(bins=30, edgecolor='black')"
   ]
  },
  {
   "cell_type": "code",
   "execution_count": 24,
   "metadata": {},
   "outputs": [
    {
     "data": {
      "text/plain": [
       "0   70000.00\n",
       "Name: total_compensation, dtype: float64"
      ]
     },
     "execution_count": 24,
     "metadata": {},
     "output_type": "execute_result"
    }
   ],
   "source": [
    "df['total_compensation'].mode()"
   ]
  },
  {
   "cell_type": "code",
   "execution_count": 28,
   "metadata": {},
   "outputs": [],
   "source": [
    "bins = [0, 25000, 50000, 75000, 100000,250000,600000, float('inf')]\n",
    "labels = ['$0-25k', '$25k-50k', '$50k-75k', '$75k-100k', '$100k-250k', '$250k-600k', 'Top 1%']\n",
    "df['earning_band'] = pd.cut(df['total_compensation'], bins=bins, labels=labels, right=True)"
   ]
  },
  {
   "cell_type": "code",
   "execution_count": 29,
   "metadata": {},
   "outputs": [],
   "source": [
    "bins = [0, 25000, 65000, 150_000,250000,600000,1_000_000, float('inf')]\n",
    "labels = ['Very Low', 'Low', 'Middle', 'Upper Middle', 'Upper', 'High Upper', 'High Networth']\n",
    "df['earning_class'] = pd.cut(df['total_compensation'], bins=bins, labels=labels, right=True)"
   ]
  },
  {
   "cell_type": "markdown",
   "metadata": {},
   "source": [
    "**Transform Earning into Logarithmic Scale**"
   ]
  },
  {
   "cell_type": "code",
   "execution_count": 32,
   "metadata": {},
   "outputs": [],
   "source": [
    "# Log Transformation (adding 1 to avoid log(0) issues)\n",
    "df['log_total_earnings'] = np.log1p(df['total_compensation'])"
   ]
  },
  {
   "cell_type": "markdown",
   "metadata": {},
   "source": [
    "**Convert Years of Experience and Years of Experience In Field into numerical values using midpoint**"
   ]
  },
  {
   "cell_type": "code",
   "execution_count": 61,
   "metadata": {},
   "outputs": [],
   "source": [
    "# Function to convert experience ranges to midpoints\n",
    "import re\n",
    "def convert_to_midpoint(experience_range):\n",
    "    # Handle the \"41 years or more\" and \"1 year or less\"  edge cases separately\n",
    "    if 'or' in experience_range:\n",
    "        num = float(re.findall(r'\\d+', experience_range)[0])\n",
    "        return num \n",
    "    \n",
    "    # Extract numeric values from the range\n",
    "    # We remove any extra whitespace and split by the \"-\" or \" - \"\n",
    "    bounds = experience_range.replace('years', '').replace(' ', '').split('-')\n",
    "    \n",
    "    # Calculate the midpoint\n",
    "    lower_bound = float(bounds[0])\n",
    "    upper_bound = float(bounds[1])\n",
    "    \n",
    "    midpoint = (lower_bound + upper_bound) / 2\n",
    "    return midpoint\n"
   ]
  },
  {
   "cell_type": "code",
   "execution_count": 66,
   "metadata": {},
   "outputs": [],
   "source": [
    "# Apply the conversion function to the years_of_experience column\n",
    "df['experience_yrs'] = df['years_of_experience'].apply(convert_to_midpoint)\n",
    "df['experience_in_field_yrs'] = df['years_of_experience_in_field'].apply(convert_to_midpoint)"
   ]
  }
 ],
 "metadata": {
  "kernelspec": {
   "display_name": "man_sal",
   "language": "python",
   "name": "python3"
  },
  "language_info": {
   "codemirror_mode": {
    "name": "ipython",
    "version": 3
   },
   "file_extension": ".py",
   "mimetype": "text/x-python",
   "name": "python",
   "nbconvert_exporter": "python",
   "pygments_lexer": "ipython3",
   "version": "3.11.9"
  }
 },
 "nbformat": 4,
 "nbformat_minor": 2
}
